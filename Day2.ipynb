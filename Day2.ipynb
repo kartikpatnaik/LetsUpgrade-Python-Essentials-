{
 "cells": [
  {
   "cell_type": "code",
   "execution_count": 1,
   "metadata": {},
   "outputs": [
    {
     "name": "stdout",
     "output_type": "stream",
     "text": [
      "<class 'list'>\n"
     ]
    }
   ],
   "source": [
    "a=[1,2,3,4,5]\n",
    "print (type(a))"
   ]
  },
  {
   "cell_type": "code",
   "execution_count": 2,
   "metadata": {},
   "outputs": [
    {
     "name": "stdout",
     "output_type": "stream",
     "text": [
      "4\n"
     ]
    }
   ],
   "source": [
    "b=['tom', 143, 'jerry', 42.0]\n",
    "#len() is used for calculate the length\n",
    "print(len(b))"
   ]
  },
  {
   "cell_type": "code",
   "execution_count": 3,
   "metadata": {},
   "outputs": [
    {
     "name": "stdout",
     "output_type": "stream",
     "text": [
      "[1, 2, 3, 4, 5, 6]\n"
     ]
    }
   ],
   "source": [
    "c=[1,2,3,4]\n",
    "d=[1,2,3,4,5,6]\n",
    "#max() is used for maximum num\n",
    "print(max(c,d))"
   ]
  },
  {
   "cell_type": "code",
   "execution_count": 4,
   "metadata": {},
   "outputs": [
    {
     "name": "stdout",
     "output_type": "stream",
     "text": [
      "[1, 2, 3, 4]\n"
     ]
    }
   ],
   "source": [
    "#min() is used for minimum num\n",
    "print(min(c,d))"
   ]
  },
  {
   "cell_type": "code",
   "execution_count": 5,
   "metadata": {},
   "outputs": [
    {
     "name": "stdout",
     "output_type": "stream",
     "text": [
      "[0, 1, 2, 3, 4, 5, 6, 7]\n"
     ]
    }
   ],
   "source": [
    "#range() prints the immutable sequence of number\n",
    "print(list(range(8)))"
   ]
  },
  {
   "cell_type": "code",
   "execution_count": 6,
   "metadata": {},
   "outputs": [
    {
     "name": "stdout",
     "output_type": "stream",
     "text": [
      "lst finished\n"
     ]
    }
   ],
   "source": [
    "print('lst finished')"
   ]
  },
  {
   "cell_type": "code",
   "execution_count": 7,
   "metadata": {},
   "outputs": [
    {
     "name": "stdout",
     "output_type": "stream",
     "text": [
      "1\n"
     ]
    }
   ],
   "source": [
    "a={'dictionary'}\n",
    "print(len(a))"
   ]
  },
  {
   "cell_type": "code",
   "execution_count": 8,
   "metadata": {},
   "outputs": [
    {
     "name": "stdout",
     "output_type": "stream",
     "text": [
      "{'legs': 4, 'eyes': 2, 'tail': 'one'}\n"
     ]
    }
   ],
   "source": [
    "dog={'legs':4, 'eyes':2, 'tail':'one'}\n",
    "print(dog)"
   ]
  },
  {
   "cell_type": "code",
   "execution_count": 9,
   "metadata": {},
   "outputs": [
    {
     "name": "stdout",
     "output_type": "stream",
     "text": [
      "{}\n"
     ]
    }
   ],
   "source": [
    "#clear() removes all element from dictionary\n",
    "dog.clear()\n",
    "print(dog)"
   ]
  },
  {
   "cell_type": "code",
   "execution_count": 12,
   "metadata": {},
   "outputs": [
    {
     "name": "stdout",
     "output_type": "stream",
     "text": [
      "one\n"
     ]
    }
   ],
   "source": [
    "dog={'legs':4, 'eyes':2, 'tail':'one'}\n",
    "#get() returns the value of specified key\n",
    "print(dog.get('tail'))"
   ]
  },
  {
   "cell_type": "code",
   "execution_count": 16,
   "metadata": {},
   "outputs": [
    {
     "name": "stdout",
     "output_type": "stream",
     "text": [
      "{'legs': 4, 'eyes': 2}\n"
     ]
    }
   ],
   "source": [
    "dog={'legs':4, 'eyes':2, 'tail':'one'}\n",
    "#pop() removes the element\n",
    "dog.pop('tail')\n",
    "print(dog)"
   ]
  },
  {
   "cell_type": "code",
   "execution_count": 18,
   "metadata": {},
   "outputs": [
    {
     "name": "stdout",
     "output_type": "stream",
     "text": [
      "{'legs': 4, 'eyes': 2, 'tail': 'one', 'nose': 1}\n"
     ]
    }
   ],
   "source": [
    "dog={'legs':4, 'eyes':2, 'tail':'one'}\n",
    "#update() updates the new key into dict\n",
    "dog.update({'nose':1})\n",
    "print(dog)"
   ]
  },
  {
   "cell_type": "code",
   "execution_count": 19,
   "metadata": {},
   "outputs": [
    {
     "name": "stdout",
     "output_type": "stream",
     "text": [
      "dict finished\n"
     ]
    }
   ],
   "source": [
    "print('dict finished')"
   ]
  },
  {
   "cell_type": "code",
   "execution_count": 21,
   "metadata": {},
   "outputs": [
    {
     "name": "stdout",
     "output_type": "stream",
     "text": [
      "{'cat', 'monkey', 'dog'}\n"
     ]
    }
   ],
   "source": [
    "animal={'dog', 'cat', 'monkey'}\n",
    "print(animal)"
   ]
  },
  {
   "cell_type": "code",
   "execution_count": 23,
   "metadata": {},
   "outputs": [
    {
     "name": "stdout",
     "output_type": "stream",
     "text": [
      "{'zebra', 'cat', 'monkey', 'dog'}\n"
     ]
    }
   ],
   "source": [
    "#add() adds the new element\n",
    "animal.add('zebra')\n",
    "print(animal)"
   ]
  },
  {
   "cell_type": "code",
   "execution_count": 25,
   "metadata": {},
   "outputs": [
    {
     "name": "stdout",
     "output_type": "stream",
     "text": [
      "{'cat', 'dog'}\n"
     ]
    }
   ],
   "source": [
    "animal={'dog', 'cat', 'monkey'}\n",
    "#discard() it discards entered element\n",
    "animal.discard('monkey')\n",
    "print(animal)"
   ]
  },
  {
   "cell_type": "code",
   "execution_count": 26,
   "metadata": {},
   "outputs": [
    {
     "name": "stdout",
     "output_type": "stream",
     "text": [
      "{'cat', 'dog'}\n"
     ]
    }
   ],
   "source": [
    "animal={'dog', 'cat', 'monkey'}\n",
    "#remove() removes the element\n",
    "animal.remove('monkey')\n",
    "print(animal)"
   ]
  },
  {
   "cell_type": "code",
   "execution_count": 27,
   "metadata": {},
   "outputs": [
    {
     "name": "stdout",
     "output_type": "stream",
     "text": [
      "{'monkey', 'crow', 'dog', 'duck', 'cat', 'parrot'}\n"
     ]
    }
   ],
   "source": [
    "animal={'dog', 'cat', 'monkey'}\n",
    "bird={'crow', 'parrot', 'duck'}\n",
    "#union() it unions the functions\n",
    "x=animal.union(bird)\n",
    "print(x)"
   ]
  },
  {
   "cell_type": "code",
   "execution_count": 28,
   "metadata": {},
   "outputs": [
    {
     "name": "stdout",
     "output_type": "stream",
     "text": [
      "set complete\n"
     ]
    }
   ],
   "source": [
    "print('set complete')"
   ]
  },
  {
   "cell_type": "code",
   "execution_count": 29,
   "metadata": {},
   "outputs": [
    {
     "name": "stdout",
     "output_type": "stream",
     "text": [
      "6\n"
     ]
    }
   ],
   "source": [
    "tup = (2, 3, 4, 4, 2, 3, 5, 6, 4, 4, 4, 4)\n",
    "#tup() counts the number of specified element\n",
    "a = tup.count(4)\n",
    "\n",
    "print(a)\n"
   ]
  },
  {
   "cell_type": "code",
   "execution_count": 30,
   "metadata": {},
   "outputs": [
    {
     "name": "stdout",
     "output_type": "stream",
     "text": [
      "2\n"
     ]
    }
   ],
   "source": [
    "tup = (2, 3, 4, 4, 2, 3, 5, 6, 4, 4, 4, 4)\n",
    "print(tup.index(4))"
   ]
  },
  {
   "cell_type": "code",
   "execution_count": 31,
   "metadata": {},
   "outputs": [
    {
     "name": "stdout",
     "output_type": "stream",
     "text": [
      "tup completed\n"
     ]
    }
   ],
   "source": [
    "print('tup completed')"
   ]
  },
  {
   "cell_type": "code",
   "execution_count": 32,
   "metadata": {},
   "outputs": [
    {
     "name": "stdout",
     "output_type": "stream",
     "text": [
      "False\n"
     ]
    }
   ],
   "source": [
    "a= \"3445f\"\n",
    "#isdigit() returns boolean value\n",
    "print(a.isdigit())"
   ]
  },
  {
   "cell_type": "code",
   "execution_count": 33,
   "metadata": {},
   "outputs": [
    {
     "name": "stdout",
     "output_type": "stream",
     "text": [
      "True\n"
     ]
    }
   ],
   "source": [
    "a= \"doremon\"\n",
    "#isalpha() returns boolean value\n",
    "print(a.isalpha())"
   ]
  },
  {
   "cell_type": "code",
   "execution_count": 34,
   "metadata": {},
   "outputs": [
    {
     "name": "stdout",
     "output_type": "stream",
     "text": [
      "SHINCHAN\n"
     ]
    }
   ],
   "source": [
    "a='shinchan'\n",
    "#upper() it makes upper\n",
    "print(a.upper())"
   ]
  },
  {
   "cell_type": "code",
   "execution_count": 36,
   "metadata": {},
   "outputs": [
    {
     "name": "stdout",
     "output_type": "stream",
     "text": [
      "harry potter\n"
     ]
    }
   ],
   "source": [
    "a='HARRY PoTTER'\n",
    "#lower() it makes upper\n",
    "print(a.lower())"
   ]
  },
  {
   "cell_type": "code",
   "execution_count": 37,
   "metadata": {},
   "outputs": [
    {
     "name": "stdout",
     "output_type": "stream",
     "text": [
      "string completed\n"
     ]
    }
   ],
   "source": [
    "print('string completed')"
   ]
  },
  {
   "cell_type": "code",
   "execution_count": null,
   "metadata": {},
   "outputs": [],
   "source": []
  }
 ],
 "metadata": {
  "kernelspec": {
   "display_name": "Python 3",
   "language": "python",
   "name": "python3"
  },
  "language_info": {
   "codemirror_mode": {
    "name": "ipython",
    "version": 3
   },
   "file_extension": ".py",
   "mimetype": "text/x-python",
   "name": "python",
   "nbconvert_exporter": "python",
   "pygments_lexer": "ipython3",
   "version": "3.8.3"
  }
 },
 "nbformat": 4,
 "nbformat_minor": 4
}
